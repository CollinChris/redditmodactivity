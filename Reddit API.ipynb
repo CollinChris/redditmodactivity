{
 "cells": [
  {
   "cell_type": "code",
   "execution_count": 56,
   "id": "4b9b45a4-eec5-4302-a39d-49d255d800e1",
   "metadata": {},
   "outputs": [],
   "source": [
    "import requests\n",
    "import time\n",
    "\n",
    "cookies = {\n",
    "    'csv': '2',\n",
    "    'edgebucket': 'kcL2mFL6CdNdTgGCfF',\n",
    "    '__stripe_mid': 'bdfc6536-a15a-4aa2-81ac-ecbc5de48c5ef372f2',\n",
    "    'loid': '00000000000lbfgd38.2.1510998302160.Z0FBQUFBQm1zS0lWcGdHTVZpTmlUUG9nRkJUOHpCR1FPUnlYR1FvSmRFanAtRW9QNElvQXNMNjdxbi02a285aDA1VlZrcmVRV2pIdXdpb0w1MWxaNlV5Ml9IbW5qV0doVDFHbHAwMVR1WXR1WGNrLWRfX0h1cUFsWWxsUE9GZzkyTlNjRE1kZy1UZV8',\n",
    "    'theme': '2',\n",
    "    'pc': 'bj',\n",
    "    't2_lbfgd38_recentclicks3': 't3_qqt2p1',\n",
    "    'g_state': '{\"i_l\":0}',\n",
    "    'reddit_session': '46403514692%2C2024-08-07T08%3A24%3A28%2Cd10df7d1e0729c45651961b9dad1f29ba4a51a61',\n",
    "    'csrf_token': '63cd4d61a6bda11864295e0653815448',\n",
    "    'session': '50caac6ce6a200fa58d3606caca714e62f07e729gAWVSQAAAAAAAABKvC+zZkdB2azLtYa1Qn2UjAdfY3NyZnRflIwoMDc5NGVmYzE1YWYxYzBmN2Q0MmI4ZDJhYjc5NzU4MGI2YzFkNWRlZZRzh5Qu',\n",
    "    'recent_srs': 't5_70s6ew%2Ct5_2qeibm%2C',\n",
    "    'token_v2': 'eyJhbGciOiJSUzI1NiIsImtpZCI6IlNIQTI1NjpzS3dsMnlsV0VtMjVmcXhwTU40cWY4MXE2OWFFdWFyMnpLMUdhVGxjdWNZIiwidHlwIjoiSldUIn0.eyJzdWIiOiJ1c2VyIiwiZXhwIjoxNzIzMTA1NTk3LjY2MTk0NCwiaWF0IjoxNzIzMDE5MTk3LjY2MTk0NCwianRpIjoiYXFvMEs5TXRfN0xUM0I1X3hwRlRTQVNnd0FlYjR3IiwiY2lkIjoiOXRMb0Ywc29wNVJKZ0EiLCJsaWQiOiJ0Ml9sYmZnZDM4IiwiYWlkIjoidDJfbGJmZ2QzOCIsImxjYSI6MTUxMDk5ODMwMjE2MCwic2NwIjoiZUp4a2tWRnU5REFJaE9faTU1emd2OHF2cW5Kc3NvdHFtd2h3Vm52N2l0aGtJX1Z0WUw1Z21Qd1BPMkpZUXN3Q0dYVW9ocGpERXFCR0xOWkppWG96THpIa2pDcG1Ebm9yRVRrczRZbWl4Ty13Qk16UUZOVmt3UU5xYlBFQllRbVZjcUsyNGVQU3lyaDJKWmJSOFZHVmNxRkp6UTBxNVVZNnA1QS13Yl9aU1hSS2diSU5wUnkzRGRNb1h2aGo5OVczOVBXel9jNTRSSVVLSXZFQjFwazNNLXpFZHBqRXc5NFQ1WjYwTTJUUmR6bEo2V3M5YjVlLVNtSmNqVHZHZXZiYVRNYmtISnFlVWZfZDlZdnh4RDNQeV9UYWdSbXItMTY2N1ZtN2Y5VU9WTXJBVVltZC1EUWN1WEw1dGw4QzdkcjByM0g3eEE3ZkZhbkpEYjgxSGJWY25EajFNTDUtQXdBQV9fOVZlOTdqIiwicmNpZCI6InotT1hPNHZFRXdmX2ZXY2c1U2lKR2Nyemt2QWRIU0pZU1hRZjJ0ZjdQLWsiLCJmbG8iOjJ9.ZsPN7lXL9G64sCJN98UQ9nosQmvZMwVqNIxMf3RTsgsdG6mQQtqHD3PeCxCun_hN2QMq8651355ZBhBW4Sc-P-VGCmz27S_X7geLEdI1Zrw9BlZ32rxRG4kUXG2xkw92Y4NUAHQNYtoNiRHkrxVOgJ5y87xdQl4qMXTLd15vyq2rrKixOmVk2nM3kiH_iyH35AQlEpi5eIuxf4cBQcqn6qAjptRv-btSGwhzKcqfllRL1pxzPcgxoH8_MFawib7CBb2JNUUpXtxTebUYxIrzvwgTMseZDmicVDp2QiHkAhv0VfC_C9-t2FWtWVuFxQy7XJ8BCwGYnbQmKrOkcK5xZw',\n",
    "    'session_tracker': 'gncdahebbekoigeoee.0.1723019288938.Z0FBQUFBQm1zekFZQmc5emZ2OWFBaVQwRlpLSkJ1clVmS0IyemdKS3RRQy1RcVplWDRYaE9IT2lIUDdrYUlOM1NBekFXR0txbkl1aGhxQlkzRF8yMXpnLUJFdExUemVaaHpUU1NBV1NIcjByX0hPQ1BXTmVQMl9OVlI1b3ZpRWVLUHZzM1N6VmJQZ1c',\n",
    "}\n",
    "\n",
    "headers = {\n",
    "    'accept': 'text/html,application/xhtml+xml,application/xml;q=0.9,image/avif,image/webp,image/apng,*/*;q=0.8',\n",
    "    'accept-language': 'en-US,en;q=0.9',\n",
    "    'cache-control': 'max-age=0',\n",
    "    # 'cookie': 'csv=2; edgebucket=kcL2mFL6CdNdTgGCfF; __stripe_mid=bdfc6536-a15a-4aa2-81ac-ecbc5de48c5ef372f2; loid=00000000000lbfgd38.2.1510998302160.Z0FBQUFBQm1zS0lWcGdHTVZpTmlUUG9nRkJUOHpCR1FPUnlYR1FvSmRFanAtRW9QNElvQXNMNjdxbi02a285aDA1VlZrcmVRV2pIdXdpb0w1MWxaNlV5Ml9IbW5qV0doVDFHbHAwMVR1WXR1WGNrLWRfX0h1cUFsWWxsUE9GZzkyTlNjRE1kZy1UZV8; theme=2; pc=bj; t2_lbfgd38_recentclicks3=t3_qqt2p1; g_state={\"i_l\":0}; reddit_session=46403514692%2C2024-08-07T08%3A24%3A28%2Cd10df7d1e0729c45651961b9dad1f29ba4a51a61; csrf_token=63cd4d61a6bda11864295e0653815448; session=50caac6ce6a200fa58d3606caca714e62f07e729gAWVSQAAAAAAAABKvC+zZkdB2azLtYa1Qn2UjAdfY3NyZnRflIwoMDc5NGVmYzE1YWYxYzBmN2Q0MmI4ZDJhYjc5NzU4MGI2YzFkNWRlZZRzh5Qu; recent_srs=t5_70s6ew%2Ct5_2qeibm%2C; token_v2=eyJhbGciOiJSUzI1NiIsImtpZCI6IlNIQTI1NjpzS3dsMnlsV0VtMjVmcXhwTU40cWY4MXE2OWFFdWFyMnpLMUdhVGxjdWNZIiwidHlwIjoiSldUIn0.eyJzdWIiOiJ1c2VyIiwiZXhwIjoxNzIzMTA1NTk3LjY2MTk0NCwiaWF0IjoxNzIzMDE5MTk3LjY2MTk0NCwianRpIjoiYXFvMEs5TXRfN0xUM0I1X3hwRlRTQVNnd0FlYjR3IiwiY2lkIjoiOXRMb0Ywc29wNVJKZ0EiLCJsaWQiOiJ0Ml9sYmZnZDM4IiwiYWlkIjoidDJfbGJmZ2QzOCIsImxjYSI6MTUxMDk5ODMwMjE2MCwic2NwIjoiZUp4a2tWRnU5REFJaE9faTU1emd2OHF2cW5Kc3NvdHFtd2h3Vm52N2l0aGtJX1Z0WUw1Z21Qd1BPMkpZUXN3Q0dYVW9ocGpERXFCR0xOWkppWG96THpIa2pDcG1Ebm9yRVRrczRZbWl4Ty13Qk16UUZOVmt3UU5xYlBFQllRbVZjcUsyNGVQU3lyaDJKWmJSOFZHVmNxRkp6UTBxNVVZNnA1QS13Yl9aU1hSS2diSU5wUnkzRGRNb1h2aGo5OVczOVBXel9jNTRSSVVLSXZFQjFwazNNLXpFZHBqRXc5NFQ1WjYwTTJUUmR6bEo2V3M5YjVlLVNtSmNqVHZHZXZiYVRNYmtISnFlVWZfZDlZdnh4RDNQeV9UYWdSbXItMTY2N1ZtN2Y5VU9WTXJBVVltZC1EUWN1WEw1dGw4QzdkcjByM0g3eEE3ZkZhbkpEYjgxSGJWY25EajFNTDUtQXdBQV9fOVZlOTdqIiwicmNpZCI6InotT1hPNHZFRXdmX2ZXY2c1U2lKR2Nyemt2QWRIU0pZU1hRZjJ0ZjdQLWsiLCJmbG8iOjJ9.ZsPN7lXL9G64sCJN98UQ9nosQmvZMwVqNIxMf3RTsgsdG6mQQtqHD3PeCxCun_hN2QMq8651355ZBhBW4Sc-P-VGCmz27S_X7geLEdI1Zrw9BlZ32rxRG4kUXG2xkw92Y4NUAHQNYtoNiRHkrxVOgJ5y87xdQl4qMXTLd15vyq2rrKixOmVk2nM3kiH_iyH35AQlEpi5eIuxf4cBQcqn6qAjptRv-btSGwhzKcqfllRL1pxzPcgxoH8_MFawib7CBb2JNUUpXtxTebUYxIrzvwgTMseZDmicVDp2QiHkAhv0VfC_C9-t2FWtWVuFxQy7XJ8BCwGYnbQmKrOkcK5xZw; session_tracker=gncdahebbekoigeoee.0.1723019288938.Z0FBQUFBQm1zekFZQmc5emZ2OWFBaVQwRlpLSkJ1clVmS0IyemdKS3RRQy1RcVplWDRYaE9IT2lIUDdrYUlOM1NBekFXR0txbkl1aGhxQlkzRF8yMXpnLUJFdExUemVaaHpUU1NBV1NIcjByX0hPQ1BXTmVQMl9OVlI1b3ZpRWVLUHZzM1N6VmJQZ1c',\n",
    "    'priority': 'u=0, i',\n",
    "    'sec-ch-ua': '\"Not)A;Brand\";v=\"99\", \"Brave\";v=\"127\", \"Chromium\";v=\"127\"',\n",
    "    'sec-ch-ua-mobile': '?0',\n",
    "    'sec-ch-ua-platform': '\"Windows\"',\n",
    "    'sec-fetch-dest': 'document',\n",
    "    'sec-fetch-mode': 'navigate',\n",
    "    'sec-fetch-site': 'none',\n",
    "    'sec-fetch-user': '?1',\n",
    "    'sec-gpc': '1',\n",
    "    'upgrade-insecure-requests': '1',\n",
    "    'user-agent': 'Mozilla/5.0 (Windows NT 10.0; Win64; x64) AppleWebKit/537.36 (KHTML, like Gecko) Chrome/127.0.0.0 Safari/537.36',\n",
    "}\n",
    "\n",
    "def get_mods(subreddit):\n",
    "    response = requests.get(f'https://www.reddit.com/r/{subreddit}/about/moderators.json', cookies=cookies, headers=headers)\n",
    "    json_response = response.json()\n",
    "    mods = [{'subreddit': subreddit ,'mod':item['name']}  for item in json_response['data']['children']]\n",
    "    return mods\n",
    "    \n",
    "def mod_activiti(mod):\n",
    "    after = None\n",
    "    \n",
    "    utc_list = []\n",
    "    \n",
    "    for pages in range(5):\n",
    "        print('running')\n",
    "        if after == None:\n",
    "            url = f'https://www.reddit.com/user/{mod}/.json'\n",
    "        else:\n",
    "            url = f'https://www.reddit.com/user/{mod}/.json?after={after}'\n",
    "        response = requests.get(url, cookies=cookies, headers=headers)\n",
    "        after = response.json()['data']['after']\n",
    "        \n",
    "        mod_activity = []\n",
    "        for  exp in response.json()['data']['children']:\n",
    "            utc_time = int(exp['data']['created_utc'])\n",
    "            data_dict = {'mod': mod ,\n",
    "             'utc':utc_time, \n",
    "             'activity_time':time.strftime(\"%Y-%m-%d\", time.gmtime(utc_time))}\n",
    "            mod_activity.append(data_dict)\n",
    "        \n",
    "        utc_list.extend(mod_activity)"
   ]
  },
  {
   "cell_type": "code",
   "execution_count": 57,
   "id": "c1a60675-7a81-4e72-848e-d477cae11c1f",
   "metadata": {},
   "outputs": [
    {
     "name": "stdout",
     "output_type": "stream",
     "text": [
      "running\n",
      "running\n",
      "running\n",
      "running\n",
      "running\n"
     ]
    }
   ],
   "source": [
    "test_mod = mod_activiti('Curiouschibai')"
   ]
  },
  {
   "cell_type": "code",
   "execution_count": 58,
   "id": "da49f499-ebb6-45ae-a7fd-5bcf2e7bdec9",
   "metadata": {},
   "outputs": [
    {
     "data": {
      "text/plain": [
       "NoneType"
      ]
     },
     "execution_count": 58,
     "metadata": {},
     "output_type": "execute_result"
    }
   ],
   "source": [
    "type(test_mod)"
   ]
  },
  {
   "cell_type": "code",
   "execution_count": 35,
   "id": "88485cb8-6280-4b36-a7c7-6c1970d788a0",
   "metadata": {},
   "outputs": [],
   "source": [
    "mods = get_mods('singaporehappenings')"
   ]
  },
  {
   "cell_type": "code",
   "execution_count": 36,
   "id": "9b917520-0ddf-4e82-8b70-a410c0b491d0",
   "metadata": {},
   "outputs": [
    {
     "name": "stdout",
     "output_type": "stream",
     "text": [
      "running\n",
      "running\n",
      "running\n",
      "running\n",
      "running\n",
      "running\n",
      "running\n",
      "running\n",
      "running\n",
      "running\n",
      "running\n",
      "running\n",
      "running\n",
      "running\n",
      "running\n",
      "running\n",
      "running\n",
      "running\n",
      "running\n",
      "running\n",
      "running\n",
      "running\n",
      "running\n",
      "running\n",
      "running\n",
      "running\n",
      "running\n",
      "running\n",
      "running\n",
      "running\n",
      "running\n",
      "running\n",
      "running\n",
      "running\n",
      "running\n",
      "running\n",
      "running\n",
      "running\n",
      "running\n",
      "running\n",
      "running\n",
      "running\n",
      "running\n",
      "running\n",
      "running\n",
      "running\n"
     ]
    }
   ],
   "source": [
    "all_activity = []\n",
    "\n",
    "for item in mods:\n",
    "    try:\n",
    "        mod = item['mod']\n",
    "        mod_activity = mod_activiti(mod)\n",
    "        all_activity.append(mod_activity)\n",
    "        \n",
    "    except:\n",
    "        continue "
   ]
  },
  {
   "cell_type": "code",
   "execution_count": 43,
   "id": "d94b04de-4c0d-4fe2-941d-6612215d187c",
   "metadata": {},
   "outputs": [
    {
     "data": {
      "text/plain": [
       "[{'subreddit': 'singaporehappenings', 'mod': 'Curiouschibai'},\n",
       " {'subreddit': 'singaporehappenings', 'mod': 'Fast_Reach4438'},\n",
       " {'subreddit': 'singaporehappenings', 'mod': 'Hallosiawhat'},\n",
       " {'subreddit': 'singaporehappenings', 'mod': 'Ok-Flounder612'},\n",
       " {'subreddit': 'singaporehappenings', 'mod': 'faister787'},\n",
       " {'subreddit': 'singaporehappenings', 'mod': 'makanpakau'},\n",
       " {'subreddit': 'singaporehappenings', 'mod': 'Revolutionary-Fig105'},\n",
       " {'subreddit': 'singaporehappenings', 'mod': 'Sealord619'},\n",
       " {'subreddit': 'singaporehappenings', 'mod': 'lanjiolover'},\n",
       " {'subreddit': 'singaporehappenings', 'mod': 'randombtoguy'}]"
      ]
     },
     "execution_count": 43,
     "metadata": {},
     "output_type": "execute_result"
    }
   ],
   "source": []
  },
  {
   "cell_type": "code",
   "execution_count": null,
   "id": "0cce5744-c47f-4181-b0d4-6dc8b53ea1cd",
   "metadata": {},
   "outputs": [],
   "source": []
  },
  {
   "cell_type": "code",
   "execution_count": null,
   "id": "f919724c-8f6f-4898-ac95-43fc99a5dea6",
   "metadata": {},
   "outputs": [],
   "source": []
  },
  {
   "cell_type": "code",
   "execution_count": null,
   "id": "8ac9cd3a-0050-4cda-90a0-705695b2e95d",
   "metadata": {},
   "outputs": [],
   "source": []
  },
  {
   "cell_type": "code",
   "execution_count": null,
   "id": "38697d5a-f8bd-4ab4-9015-d5957b95b70d",
   "metadata": {},
   "outputs": [],
   "source": []
  },
  {
   "cell_type": "code",
   "execution_count": null,
   "id": "b63d3600-b5bd-43bb-9b15-9ed1a3e0ad23",
   "metadata": {},
   "outputs": [],
   "source": []
  },
  {
   "cell_type": "code",
   "execution_count": null,
   "id": "ff80559e-f30f-4e04-bb41-f8bc6149de4a",
   "metadata": {},
   "outputs": [],
   "source": []
  },
  {
   "cell_type": "code",
   "execution_count": null,
   "id": "69766469-2f76-4700-a53d-16f6a87e0486",
   "metadata": {},
   "outputs": [],
   "source": []
  },
  {
   "cell_type": "code",
   "execution_count": null,
   "id": "a13b3627-80f9-43ad-b5e8-0770baf177ce",
   "metadata": {},
   "outputs": [],
   "source": []
  },
  {
   "cell_type": "code",
   "execution_count": null,
   "id": "dafc6e42-f759-4c33-a944-d76d01177198",
   "metadata": {},
   "outputs": [],
   "source": []
  },
  {
   "cell_type": "code",
   "execution_count": null,
   "id": "b1638718-2ab6-4305-9dc0-495c38078c8f",
   "metadata": {},
   "outputs": [],
   "source": []
  },
  {
   "cell_type": "code",
   "execution_count": null,
   "id": "6b1fbc21-57e1-4b81-aac3-2c4b95c2ac81",
   "metadata": {},
   "outputs": [],
   "source": []
  },
  {
   "cell_type": "code",
   "execution_count": null,
   "id": "2c495519-1747-47ac-9dbf-552ce0f6c461",
   "metadata": {},
   "outputs": [],
   "source": []
  },
  {
   "cell_type": "code",
   "execution_count": null,
   "id": "53f06c23-cc23-4855-bd80-e02120a3b59a",
   "metadata": {},
   "outputs": [],
   "source": []
  },
  {
   "cell_type": "code",
   "execution_count": null,
   "id": "f75070af-599f-46a9-b726-2bae2871ba40",
   "metadata": {},
   "outputs": [],
   "source": []
  }
 ],
 "metadata": {
  "kernelspec": {
   "display_name": "Python 3 (ipykernel)",
   "language": "python",
   "name": "python3"
  },
  "language_info": {
   "codemirror_mode": {
    "name": "ipython",
    "version": 3
   },
   "file_extension": ".py",
   "mimetype": "text/x-python",
   "name": "python",
   "nbconvert_exporter": "python",
   "pygments_lexer": "ipython3",
   "version": "3.12.4"
  }
 },
 "nbformat": 4,
 "nbformat_minor": 5
}
